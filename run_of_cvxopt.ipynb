{
 "cells": [
  {
   "cell_type": "code",
   "execution_count": 4,
   "metadata": {},
   "outputs": [
    {
     "name": "stdout",
     "output_type": "stream",
     "text": [
      "--------Run truss1.dat-s----------------\n",
      "     pcost       dcost       gap    pres   dres   k/t\n",
      " 0:  0.0000e+00 -2.0108e+00  3e+01  4e+00  7e+00  1e+00\n",
      " 1: -3.6805e+00 -3.6169e+00  1e+01  1e+00  2e+00  1e+00\n",
      " 2: -7.4222e+00 -7.0855e+00  4e+00  2e-01  4e-01  5e-01\n",
      " 3: -8.9681e+00 -8.5698e+00  5e+00  2e-01  3e-01  5e-01\n",
      " 4: -8.4759e+00 -8.4808e+00  1e+00  5e-02  9e-02  3e-02\n",
      " 5: -8.8718e+00 -8.8695e+00  3e-01  8e-03  2e-02  9e-03\n",
      " 6: -8.9874e+00 -8.9860e+00  5e-02  1e-03  3e-03  3e-03\n",
      " 7: -8.9999e+00 -8.9998e+00  8e-04  2e-05  4e-05  4e-05\n",
      " 8: -9.0000e+00 -9.0000e+00  7e-05  2e-06  3e-06  3e-06\n",
      " 9: -9.0000e+00 -9.0000e+00  6e-06  2e-07  3e-07  3e-07\n",
      "10: -9.0000e+00 -9.0000e+00  6e-07  2e-08  3e-08  3e-08\n",
      "Optimal solution found.\n",
      "the optimal value is  [-9.00e+00]\n",
      "\n"
     ]
    }
   ],
   "source": [
    "#solve sdp problem: truss1.dat-s\n",
    "import sdp_cnvrt\n",
    "from cvxopt import solvers\n",
    "  \n",
    "c,G,h,dims=sdp_cnvrt.conelp_form(\"truss1.dat-s\")\n",
    "print(\"--------Run truss1.dat-s----------------\")\n",
    "sol = solvers.conelp(c,G,h, dims)\n",
    "if sol['status']=='optimal':\n",
    "    print(\"the optimal value is \",c.T*sol['x'])\n"
   ]
  },
  {
   "cell_type": "code",
   "execution_count": null,
   "metadata": {},
   "outputs": [],
   "source": []
  }
 ],
 "metadata": {
  "kernelspec": {
   "display_name": "snowflake",
   "language": "python",
   "name": "snowflake"
  },
  "language_info": {
   "codemirror_mode": {
    "name": "ipython",
    "version": 3
   },
   "file_extension": ".py",
   "mimetype": "text/x-python",
   "name": "python",
   "nbconvert_exporter": "python",
   "pygments_lexer": "ipython3",
   "version": "3.7.4"
  }
 },
 "nbformat": 4,
 "nbformat_minor": 4
}
